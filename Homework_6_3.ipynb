{
 "cells": [
  {
   "cell_type": "markdown",
   "metadata": {},
   "source": [
    "Bu alıştırmada, Szeged, Macaristan bölgesindeki tarihi sıcaklık verileriyle çalışacaksınız.\n",
    "\n",
    "- Öncelikle, Sıcaklık verilerini Kaggle'dan indirin.\n",
    "- Hedef değişkenin sıcaklık olduğu bir regresyon modeli oluşturun. Açıklayıcı değişkenler olarak nem, rüzgar hızı, rüzgar ve basınç kullanın. OLS kullanarak modeli tahmin edin.\n",
    "- Şimdi, modelinizin yukarıdaki Gauss-Markov Koşullarını karşılayıp karşılamadığını kontrol edin. Eğer bazı varsayımlar karşılanmazsa, modelinizin doğruluğu için ihlallerin etkilerini tartışın."
   ]
  },
  {
   "cell_type": "code",
   "execution_count": 1,
   "metadata": {},
   "outputs": [],
   "source": [
    "import pandas as pd\n",
    "import matplotlib.pyplot as plt\n",
    "import seaborn as sns\n",
    "import numpy as np\n",
    "from sklearn.preprocessing import StandardScaler\n",
    "from sklearn.linear_model import LinearRegression\n",
    "from scipy import stats\n",
    "import statsmodels.api as sm\n",
    "from matplotlib.ticker import FuncFormatter\n",
    "import warnings\n",
    "\n",
    "warnings.filterwarnings('ignore')\n",
    "%matplotlib inline"
   ]
  },
  {
   "cell_type": "code",
   "execution_count": 2,
   "metadata": {},
   "outputs": [],
   "source": [
    "sicaklik = pd.read_csv(\"weatherHistory.csv\")"
   ]
  },
  {
   "cell_type": "code",
   "execution_count": 3,
   "metadata": {},
   "outputs": [],
   "source": [
    "X = sicaklik[['Humidity', 'Wind Speed (km/h)', 'Wind Bearing (degrees)' , \n",
    "              'Pressure (millibars)']]\n",
    "y = sicaklik['Apparent Temperature (C)']"
   ]
  },
  {
   "cell_type": "code",
   "execution_count": 4,
   "metadata": {},
   "outputs": [
    {
     "name": "stdout",
     "output_type": "stream",
     "text": [
      "Değişkenler: \n",
      " [-3.55395113e+01 -3.22375796e-01  5.08683496e-03 -5.80345617e-04]\n",
      "Sabit değer (bias): \n",
      " 40.086462790777524\n"
     ]
    }
   ],
   "source": [
    "lrm = LinearRegression()\n",
    "lrm.fit(X, y)\n",
    "print('Değişkenler: \\n', lrm.coef_)\n",
    "print('Sabit değer (bias): \\n', lrm.intercept_)"
   ]
  },
  {
   "cell_type": "code",
   "execution_count": 5,
   "metadata": {
    "scrolled": true
   },
   "outputs": [
    {
     "data": {
      "text/html": [
       "<table class=\"simpletable\">\n",
       "<caption>OLS Regression Results</caption>\n",
       "<tr>\n",
       "  <th>Dep. Variable:</th>    <td>Apparent Temperature (C)</td> <th>  R-squared:         </th>  <td>   0.405</td>  \n",
       "</tr>\n",
       "<tr>\n",
       "  <th>Model:</th>                       <td>OLS</td>           <th>  Adj. R-squared:    </th>  <td>   0.405</td>  \n",
       "</tr>\n",
       "<tr>\n",
       "  <th>Method:</th>                 <td>Least Squares</td>      <th>  F-statistic:       </th>  <td>1.639e+04</td> \n",
       "</tr>\n",
       "<tr>\n",
       "  <th>Date:</th>                 <td>Wed, 23 Oct 2019</td>     <th>  Prob (F-statistic):</th>   <td>  0.00</td>   \n",
       "</tr>\n",
       "<tr>\n",
       "  <th>Time:</th>                     <td>10:30:09</td>         <th>  Log-Likelihood:    </th> <td>-3.4044e+05</td>\n",
       "</tr>\n",
       "<tr>\n",
       "  <th>No. Observations:</th>          <td> 96453</td>          <th>  AIC:               </th>  <td>6.809e+05</td> \n",
       "</tr>\n",
       "<tr>\n",
       "  <th>Df Residuals:</th>              <td> 96448</td>          <th>  BIC:               </th>  <td>6.809e+05</td> \n",
       "</tr>\n",
       "<tr>\n",
       "  <th>Df Model:</th>                  <td>     4</td>          <th>                     </th>      <td> </td>     \n",
       "</tr>\n",
       "<tr>\n",
       "  <th>Covariance Type:</th>          <td>nonrobust</td>        <th>                     </th>      <td> </td>     \n",
       "</tr>\n",
       "</table>\n",
       "<table class=\"simpletable\">\n",
       "<tr>\n",
       "             <td></td>               <th>coef</th>     <th>std err</th>      <th>t</th>      <th>P>|t|</th>  <th>[0.025</th>    <th>0.975]</th>  \n",
       "</tr>\n",
       "<tr>\n",
       "  <th>const</th>                  <td>   40.0865</td> <td>    0.265</td> <td>  151.491</td> <td> 0.000</td> <td>   39.568</td> <td>   40.605</td>\n",
       "</tr>\n",
       "<tr>\n",
       "  <th>Humidity</th>               <td>  -35.5395</td> <td>    0.140</td> <td> -254.610</td> <td> 0.000</td> <td>  -35.813</td> <td>  -35.266</td>\n",
       "</tr>\n",
       "<tr>\n",
       "  <th>Wind Speed (km/h)</th>      <td>   -0.3224</td> <td>    0.004</td> <td>  -81.150</td> <td> 0.000</td> <td>   -0.330</td> <td>   -0.315</td>\n",
       "</tr>\n",
       "<tr>\n",
       "  <th>Wind Bearing (degrees)</th> <td>    0.0051</td> <td>    0.000</td> <td>   20.435</td> <td> 0.000</td> <td>    0.005</td> <td>    0.006</td>\n",
       "</tr>\n",
       "<tr>\n",
       "  <th>Pressure (millibars)</th>   <td>   -0.0006</td> <td>    0.000</td> <td>   -2.551</td> <td> 0.011</td> <td>   -0.001</td> <td>   -0.000</td>\n",
       "</tr>\n",
       "</table>\n",
       "<table class=\"simpletable\">\n",
       "<tr>\n",
       "  <th>Omnibus:</th>       <td>3414.455</td> <th>  Durbin-Watson:     </th> <td>   0.062</td>\n",
       "</tr>\n",
       "<tr>\n",
       "  <th>Prob(Omnibus):</th>  <td> 0.000</td>  <th>  Jarque-Bera (JB):  </th> <td>3814.376</td>\n",
       "</tr>\n",
       "<tr>\n",
       "  <th>Skew:</th>           <td>-0.465</td>  <th>  Prob(JB):          </th> <td>    0.00</td>\n",
       "</tr>\n",
       "<tr>\n",
       "  <th>Kurtosis:</th>       <td> 3.291</td>  <th>  Cond. No.          </th> <td>1.06e+04</td>\n",
       "</tr>\n",
       "</table><br/><br/>Warnings:<br/>[1] Standard Errors assume that the covariance matrix of the errors is correctly specified.<br/>[2] The condition number is large, 1.06e+04. This might indicate that there are<br/>strong multicollinearity or other numerical problems."
      ],
      "text/plain": [
       "<class 'statsmodels.iolib.summary.Summary'>\n",
       "\"\"\"\n",
       "                               OLS Regression Results                               \n",
       "====================================================================================\n",
       "Dep. Variable:     Apparent Temperature (C)   R-squared:                       0.405\n",
       "Model:                                  OLS   Adj. R-squared:                  0.405\n",
       "Method:                       Least Squares   F-statistic:                 1.639e+04\n",
       "Date:                      Wed, 23 Oct 2019   Prob (F-statistic):               0.00\n",
       "Time:                              10:30:09   Log-Likelihood:            -3.4044e+05\n",
       "No. Observations:                     96453   AIC:                         6.809e+05\n",
       "Df Residuals:                         96448   BIC:                         6.809e+05\n",
       "Df Model:                                 4                                         \n",
       "Covariance Type:                  nonrobust                                         \n",
       "==========================================================================================\n",
       "                             coef    std err          t      P>|t|      [0.025      0.975]\n",
       "------------------------------------------------------------------------------------------\n",
       "const                     40.0865      0.265    151.491      0.000      39.568      40.605\n",
       "Humidity                 -35.5395      0.140   -254.610      0.000     -35.813     -35.266\n",
       "Wind Speed (km/h)         -0.3224      0.004    -81.150      0.000      -0.330      -0.315\n",
       "Wind Bearing (degrees)     0.0051      0.000     20.435      0.000       0.005       0.006\n",
       "Pressure (millibars)      -0.0006      0.000     -2.551      0.011      -0.001      -0.000\n",
       "==============================================================================\n",
       "Omnibus:                     3414.455   Durbin-Watson:                   0.062\n",
       "Prob(Omnibus):                  0.000   Jarque-Bera (JB):             3814.376\n",
       "Skew:                          -0.465   Prob(JB):                         0.00\n",
       "Kurtosis:                       3.291   Cond. No.                     1.06e+04\n",
       "==============================================================================\n",
       "\n",
       "Warnings:\n",
       "[1] Standard Errors assume that the covariance matrix of the errors is correctly specified.\n",
       "[2] The condition number is large, 1.06e+04. This might indicate that there are\n",
       "strong multicollinearity or other numerical problems.\n",
       "\"\"\""
      ]
     },
     "execution_count": 5,
     "metadata": {},
     "output_type": "execute_result"
    }
   ],
   "source": [
    "X = sm.add_constant(X)\n",
    "results = sm.OLS(y, X).fit()\n",
    "results.summary()"
   ]
  },
  {
   "cell_type": "code",
   "execution_count": 6,
   "metadata": {},
   "outputs": [],
   "source": [
    "X = sicaklik[['Humidity', 'Wind Speed (km/h)', 'Wind Bearing (degrees)' , \n",
    "              'Pressure (millibars)']]\n",
    "y = sicaklik['Apparent Temperature (C)']"
   ]
  },
  {
   "cell_type": "code",
   "execution_count": 7,
   "metadata": {},
   "outputs": [
    {
     "name": "stdout",
     "output_type": "stream",
     "text": [
      "Değişkenler: \n",
      " [-3.55395113e+01 -3.22375796e-01  5.08683496e-03 -5.80345617e-04]\n",
      "Sabit değer (bias): \n",
      " 40.086462790777524\n"
     ]
    }
   ],
   "source": [
    "lrm = LinearRegression()\n",
    "lrm.fit(X, y)\n",
    "print('Değişkenler: \\n', lrm.coef_)\n",
    "print('Sabit değer (bias): \\n', lrm.intercept_)"
   ]
  },
  {
   "cell_type": "markdown",
   "metadata": {},
   "source": [
    "#### Gauss-Markov \n",
    "##### 1. Katsayılarda modelin doğrusallığı"
   ]
  },
  {
   "cell_type": "code",
   "execution_count": 8,
   "metadata": {},
   "outputs": [
    {
     "data": {
      "image/png": "[encoded data removed]",
      "text/plain": [
       "<Figure size 700x630 with 1 Axes>"
      ]
     },
     "metadata": {
      "needs_background": "light"
     },
     "output_type": "display_data"
    }
   ],
   "source": [
    "tahmin = lrm.predict(X)\n",
    "artik = y-tahmin\n",
    "plt.figure(figsize=(10,9), dpi=70)\n",
    "plt.scatter(artik, tahmin)\n",
    "plt.show()"
   ]
  },
  {
   "cell_type": "markdown",
   "metadata": {},
   "source": [
    "Artık ve tahminler belirli bir patern izlemediğinden katsayılarda model doğrusaldır."
   ]
  },
  {
   "cell_type": "markdown",
   "metadata": {},
   "source": [
    "##### 2. Hata terimi ortalamada sıfır olmalıdır"
   ]
  },
  {
   "cell_type": "code",
   "execution_count": 9,
   "metadata": {},
   "outputs": [
    {
     "name": "stdout",
     "output_type": "stream",
     "text": [
      "Tıbbi maliyetler modelinin ortalama hatası : 0.000000000000003\n"
     ]
    }
   ],
   "source": [
    "tahmin = lrm.predict(X)\n",
    "hata = y - tahmin\n",
    "\n",
    "print(\"Tıbbi maliyetler modelinin ortalama hatası : {:.15f}\".format(np.mean(hata)))"
   ]
  },
  {
   "cell_type": "markdown",
   "metadata": {},
   "source": [
    "Hata terimi ortalamada sıfırdır."
   ]
  },
  {
   "cell_type": "markdown",
   "metadata": {},
   "source": [
    "##### 3. Homoscedasticity\n"
   ]
  },
  {
   "cell_type": "code",
   "execution_count": 10,
   "metadata": {},
   "outputs": [
    {
     "name": "stdout",
     "output_type": "stream",
     "text": [
      "Bartlett test değeri : 3574.9965229931076 ve p değeri : 0.0\n",
      "Levene test değeri   : 3486.963987941483 ve p değeri : 0.0\n"
     ]
    }
   ],
   "source": [
    "from scipy.stats import bartlett\n",
    "from scipy.stats import levene\n",
    "\n",
    "bart_stats = bartlett(tahmin, hata)\n",
    "lev_stats = levene(tahmin, hata)\n",
    "\n",
    "print(\"Bartlett test değeri : {} ve p değeri : {}\".format(bart_stats[0], bart_stats[1]))\n",
    "print(\"Levene test değeri   : {} ve p değeri : {}\".format(lev_stats[0], lev_stats[1]))"
   ]
  },
  {
   "cell_type": "markdown",
   "metadata": {},
   "source": [
    "Her iki testin p değerleri 0.05'ten düşüktür. Dolayısıyla, test sonuçları null hipotezini reddeder, bu da hatalarımızın heteroscedastic olduğu anlamına gelir."
   ]
  },
  {
   "cell_type": "markdown",
   "metadata": {},
   "source": [
    "##### 4. multicollinearity"
   ]
  },
  {
   "cell_type": "code",
   "execution_count": 11,
   "metadata": {},
   "outputs": [
    {
     "data": {
      "text/plain": [
       "(array([1.2543905 , 0.74883167, 1.00689157, 0.98988627]),\n",
       " array([[-0.62551827,  0.63330178, -0.44054495,  0.11651563],\n",
       "        [ 0.70437821,  0.70887549,  0.02581033,  0.02609035],\n",
       "        [ 0.29313974, -0.28968094, -0.66908093,  0.61845351],\n",
       "        [-0.16324008,  0.11184516,  0.59798385,  0.77669727]]))"
      ]
     },
     "execution_count": 11,
     "metadata": {},
     "output_type": "execute_result"
    }
   ],
   "source": [
    "corr = X.corr().values\n",
    "np.linalg.eig(corr)"
   ]
  },
  {
   "cell_type": "markdown",
   "metadata": {},
   "source": [
    "- İlk dizide sıfıra yakın değer olmadığından multicollinearity yoktur."
   ]
  },
  {
   "cell_type": "markdown",
   "metadata": {},
   "source": [
    "#### 5. hata terimleri birbiriyle ilişkisiz olmalıdır"
   ]
  },
  {
   "cell_type": "code",
   "execution_count": 12,
   "metadata": {},
   "outputs": [
    {
     "data": {
      "image/png": "[encoded data removed]",
      "text/plain": [
       "<Figure size 648x432 with 1 Axes>"
      ]
     },
     "metadata": {
      "needs_background": "light"
     },
     "output_type": "display_data"
    }
   ],
   "source": [
    "plt.figure(figsize=(9,6))\n",
    "plt.plot(hata)\n",
    "plt.show()"
   ]
  },
  {
   "cell_type": "code",
   "execution_count": 14,
   "metadata": {},
   "outputs": [
    {
     "data": {
      "image/png": "[encoded data removed]",
      "text/plain": [
       "<Figure size 432x288 with 1 Axes>"
      ]
     },
     "metadata": {
      "needs_background": "light"
     },
     "output_type": "display_data"
    }
   ],
   "source": [
    "# Import required libraries\n",
    "import matplotlib.pyplot as plt\n",
    "from statsmodels.graphics import tsaplots\n",
    "\n",
    "# Display the autocorrelation plot of your time series\n",
    "fig = tsaplots.plot_pacf(hata, lags=24)\n",
    "\n",
    "# Show plot\n",
    "plt.show()"
   ]
  },
  {
   "cell_type": "markdown",
   "metadata": {},
   "source": [
    "#### 6. özellikler hatalarla korele olmamalıdır"
   ]
  },
  {
   "cell_type": "code",
   "execution_count": 16,
   "metadata": {},
   "outputs": [
    {
     "data": {
      "text/plain": [
       "Humidity                 -7.847567e-15\n",
       "Wind Speed (km/h)        -4.487082e-16\n",
       "Wind Bearing (degrees)   -3.104189e-17\n",
       "Pressure (millibars)     -4.259309e-16\n",
       "Hata                      1.000000e+00\n",
       "Name: Hata, dtype: float64"
      ]
     },
     "execution_count": 16,
     "metadata": {},
     "output_type": "execute_result"
    }
   ],
   "source": [
    "X_hata_ekli = pd.concat([X, hata], axis=1)\n",
    "sutun = list(X.columns)\n",
    "sutun.append('Hata')\n",
    "X_hata_ekli.columns = sutun\n",
    "X_hata_ekli.corr()['Hata']"
   ]
  },
  {
   "cell_type": "markdown",
   "metadata": {},
   "source": [
    "Hataların değişkenlerle korelasyonu 0'a yakındır."
   ]
  },
  {
   "cell_type": "markdown",
   "metadata": {},
   "source": [
    "### 7.Hatalarin Dagilim Grafigi"
   ]
  },
  {
   "cell_type": "code",
   "execution_count": 17,
   "metadata": {},
   "outputs": [
    {
     "data": {
      "image/png": "[encoded data removed]",
      "text/plain": [
       "<Figure size 432x288 with 1 Axes>"
      ]
     },
     "metadata": {
      "needs_background": "light"
     },
     "output_type": "display_data"
    },
    {
     "data": {
      "image/png": "[encoded data removed]",
      "text/plain": [
       "<Figure size 432x288 with 1 Axes>"
      ]
     },
     "metadata": {
      "needs_background": "light"
     },
     "output_type": "display_data"
    }
   ],
   "source": [
    "res = stats.probplot(hata, plot=plt)\n",
    "plt.title(\"Q-Q Çizgesi\")\n",
    "plt.xlabel(\"Teorik Değerler\")\n",
    "plt.ylabel(\"Örnek Veriler\")\n",
    "plt.show()\n",
    "\n",
    "plt.hist(hata)\n",
    "plt.xlabel(\"Hata\",)\n",
    "plt.title(\"Hataların histogramı\")\n",
    "\n",
    "plt.show()"
   ]
  },
  {
   "cell_type": "code",
   "execution_count": 19,
   "metadata": {},
   "outputs": [
    {
     "name": "stdout",
     "output_type": "stream",
     "text": [
      "Jarque-Bera test değeri : 3814.375606736218 ve p değeri : 0.0\n",
      "Normal test değeri      : 3414.4549907100286  ve p değeri : 0.000000000000000000000000000000\n"
     ]
    }
   ],
   "source": [
    "from scipy.stats import jarque_bera\n",
    "from scipy.stats import normaltest\n",
    "\n",
    "jb_stats = jarque_bera(hata)\n",
    "norm_stats = normaltest(hata)\n",
    "\n",
    "print(\"Jarque-Bera test değeri : {0} ve p değeri : {1}\".format(jb_stats[0], jb_stats[1]))\n",
    "print(\"Normal test değeri      : {0}  ve p değeri : {1:.30f}\".format(norm_stats[0], norm_stats[1]))"
   ]
  },
  {
   "cell_type": "markdown",
   "metadata": {},
   "source": [
    "Test değerleri 0 olduğundan hataların normal dağılmadığını söyleyebiliriz ."
   ]
  },
  {
   "cell_type": "markdown",
   "metadata": {},
   "source": [
    "Ev Fiyatları verilerini Kaggle'dan indirin.\n",
    "- Önceki derste oluşturduğunuz modeli yeniden gerçekleştirin.\n",
    "-Yukarıdaki tüm varsayımları kontrol edin ve bazı varsayımların karşılanmadığı durumlarda sonuçları tartışın."
   ]
  },
  {
   "cell_type": "code",
   "execution_count": null,
   "metadata": {},
   "outputs": [],
   "source": [
    "#Importing the data\n",
    "houses_df = pd.read_csv('train.csv')\n",
    "numerical_features = houses_df.dtypes[houses_df.dtypes != \"object\"].index\n",
    "categoricel_features = houses_df.dtypes[houses_df.dtypes == \"object\"].index\n",
    "#missing data\n",
    "total = houses_df.isnull().sum().sort_values(ascending=False)\n",
    "percent = (houses_df.isnull().sum()/houses_df.isnull().count()).sort_values(ascending=False)\n",
    "missing_data = pd.concat([total, percent], axis=1, keys=['Total', 'Percent'])\n",
    "#dealing with missing data\n",
    "houses_df = houses_df.drop((missing_data[missing_data['Total'] > 1]).index,1)\n",
    "houses_df = houses_df.drop(houses_df.loc[houses_df['Electrical'].isnull()].index)\n",
    "corr_list = list(np.abs(houses_df.corr().iloc[-1, 0:-1]).sort_values(ascending=False)[0:20].index)"
   ]
  },
  {
   "cell_type": "code",
   "execution_count": null,
   "metadata": {},
   "outputs": [],
   "source": [
    "X = houses_df[corr_list]\n",
    "y = houses_df.SalePrice\n",
    "lrm = LinearRegression()\n",
    "lrm.fit(X, y)\n",
    "print('Değişkenler: \\n', lrm.coef_)\n",
    "print('Sabit değer (bias): \\n', lrm.intercept_)"
   ]
  },
  {
   "cell_type": "code",
   "execution_count": null,
   "metadata": {},
   "outputs": [],
   "source": [
    "X = sm.add_constant(X)\n",
    "results = sm.OLS(y, X).fit()\n",
    "results.summary()"
   ]
  },
  {
   "cell_type": "markdown",
   "metadata": {},
   "source": [
    "#### Gauss-Markov \n",
    "##### 1. Katsayılarda modelin doğrusallığı"
   ]
  },
  {
   "cell_type": "code",
   "execution_count": null,
   "metadata": {},
   "outputs": [],
   "source": [
    "X = houses_df[corr_list]\n",
    "tahmin = lrm.predict(X)\n",
    "artik = y-tahmin\n",
    "plt.figure(figsize=(10,9), dpi=70)\n",
    "plt.scatter(artik, tahmin)\n",
    "plt.show()"
   ]
  },
  {
   "cell_type": "markdown",
   "metadata": {},
   "source": [
    "Artık ve tahminler belirli bir patern izlemediğinden katsayılarda model doğrusaldır."
   ]
  },
  {
   "cell_type": "markdown",
   "metadata": {},
   "source": [
    "##### 2. Hata terimi ortalamada sıfır olmalıdır"
   ]
  },
  {
   "cell_type": "code",
   "execution_count": null,
   "metadata": {},
   "outputs": [],
   "source": [
    "tahmin = lrm.predict(X)\n",
    "hatalar = y - tahmin\n",
    "\n",
    "print(\"Ev fiyatları modelinin ortalama hatası : {:.15f}\".format(np.mean(hatalar)))"
   ]
  },
  {
   "cell_type": "markdown",
   "metadata": {},
   "source": [
    "Hata terimi ortalamada sıfıra çok yakındır."
   ]
  },
  {
   "cell_type": "markdown",
   "metadata": {},
   "source": [
    "##### 3. Homoscedasticity"
   ]
  },
  {
   "cell_type": "code",
   "execution_count": null,
   "metadata": {},
   "outputs": [],
   "source": [
    "from scipy.stats import bartlett\n",
    "from scipy.stats import levene\n",
    "\n",
    "bart_stats = bartlett(tahmin, artik)\n",
    "lev_stats = levene(tahmin, artik)\n",
    "\n",
    "print(\"Bartlett test değeri : {} ve p değeri : {}\".format(bart_stats[0], bart_stats[1]))\n",
    "print(\"Levene test değeri   : {} ve p değeri : {}\".format(lev_stats[0], lev_stats[1]))"
   ]
  },
  {
   "cell_type": "markdown",
   "metadata": {},
   "source": [
    "Her iki testin p değerleri 0.05'ten düşüktür. Dolayısıyla, test sonuçları null hipotezini reddeder, bu da hatalarımızın heteroscedastic olduğu anlamına gelir."
   ]
  },
  {
   "cell_type": "markdown",
   "metadata": {},
   "source": [
    "##### 4.multicollinearity"
   ]
  },
  {
   "cell_type": "code",
   "execution_count": null,
   "metadata": {},
   "outputs": [],
   "source": [
    "corr = X.corr().values\n",
    "np.linalg.eig(corr)[0]"
   ]
  },
  {
   "cell_type": "code",
   "execution_count": null,
   "metadata": {},
   "outputs": [],
   "source": [
    "np.linalg.eig(corr)[0][15]"
   ]
  },
  {
   "cell_type": "markdown",
   "metadata": {},
   "source": [
    "Sıfıra yakın değer bulunuğunan multicollinearity vardır. Korelasyon matrisini gözden geçirmemiz gerekir "
   ]
  },
  {
   "cell_type": "markdown",
   "metadata": {},
   "source": [
    "#### 5. Hata Terimleri birbirleriyle iliskisiz olmalidir."
   ]
  },
  {
   "cell_type": "code",
   "execution_count": null,
   "metadata": {},
   "outputs": [],
   "source": [
    "plt.figure(figsize=(12,5))\n",
    "plt.subplot(121)\n",
    "plt.plot(artik)\n",
    "\n",
    "from statsmodels.tsa.stattools import acf\n",
    "plt.subplot(122)\n",
    "acf_data = acf(artik)\n",
    "plt.plot(acf_data[1:])\n",
    "\n",
    "plt.show()"
   ]
  },
  {
   "cell_type": "markdown",
   "metadata": {},
   "source": [
    "Hata terimleri arasindaki otokorelasyon oldukca dusuktur."
   ]
  },
  {
   "cell_type": "markdown",
   "metadata": {},
   "source": [
    "#### 6. özellikler hatalarla korele olmamalıdır"
   ]
  },
  {
   "cell_type": "code",
   "execution_count": null,
   "metadata": {},
   "outputs": [],
   "source": [
    "X_hata_ekli = pd.concat([X, artik], axis=1)\n",
    "sutun = list(X.columns)\n",
    "sutun.append('Hatalar')\n",
    "X_hata_ekli.columns = sutun\n",
    "X_hata_ekli.corr()['Hatalar']"
   ]
  },
  {
   "cell_type": "markdown",
   "metadata": {},
   "source": [
    "Hataların değişkenlerle korelasyonu 0'a yakındır."
   ]
  },
  {
   "cell_type": "markdown",
   "metadata": {},
   "source": [
    "#### 7.Hatalarin Dağılımı"
   ]
  },
  {
   "cell_type": "code",
   "execution_count": null,
   "metadata": {},
   "outputs": [],
   "source": [
    "res = stats.probplot(artik, plot=plt)\n",
    "plt.title(\"Q-Q Çizgesi\")\n",
    "plt.xlabel(\"Teorik Değerler\")\n",
    "plt.ylabel(\"Örnek Veriler\")\n",
    "plt.show()\n",
    "\n",
    "plt.hist(artik)\n",
    "plt.xlabel(\"Hatalar\",)\n",
    "plt.title(\"Hataların histogramı\")\n",
    "\n",
    "plt.show()"
   ]
  },
  {
   "cell_type": "code",
   "execution_count": null,
   "metadata": {},
   "outputs": [],
   "source": [
    "from scipy.stats import jarque_bera\n",
    "from scipy.stats import normaltest\n",
    "\n",
    "jb_stats = jarque_bera(artik)\n",
    "norm_stats = normaltest(artik)\n",
    "\n",
    "print(\"Jarque-Bera test değeri : {} ve p değeri : {}\".format(jb_stats[0], jb_stats[1]))\n",
    "print(\"Normal test değeri      : {}  ve p değeri : {}\".format(norm_stats[0], norm_stats[1]))"
   ]
  },
  {
   "cell_type": "markdown",
   "metadata": {},
   "source": [
    "Her iki test de hatalarimizin normal dagilmadigini gosterir. "
   ]
  },
  {
   "cell_type": "code",
   "execution_count": null,
   "metadata": {},
   "outputs": [],
   "source": []
  },
  {
   "cell_type": "code",
   "execution_count": null,
   "metadata": {},
   "outputs": [],
   "source": []
  },
  {
   "cell_type": "code",
   "execution_count": null,
   "metadata": {},
   "outputs": [],
   "source": []
  }
 ],
 "metadata": {
  "kernelspec": {
   "display_name": "Python 3",
   "language": "python",
   "name": "python3"
  },
  "language_info": {
   "codemirror_mode": {
    "name": "ipython",
    "version": 3
   },
   "file_extension": ".py",
   "mimetype": "text/x-python",
   "name": "python",
   "nbconvert_exporter": "python",
   "pygments_lexer": "ipython3",
   "version": "3.7.0"
  }
 },
 "nbformat": 4,
 "nbformat_minor": 2
}
