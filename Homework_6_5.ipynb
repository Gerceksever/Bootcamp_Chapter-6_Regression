{
 "cells": [
  {
   "cell_type": "markdown",
   "metadata": {},
   "source": [
    "- Öncelikle, Sıcaklık verilerini Kaggle'dan indirin.\n",
    "-Önceki derste olduğu gibi, hedef değişkeninizin görünür sıcaklık ve sıcaklık arasındaki fark olduğu bir doğrusal regresyon modeli oluşturun. Açıklayıcı değişkenler olarak nem ve rüzgar hızı kullanın. Şimdi, modelinizi OLS kullanarak tahmin edin. R-kare ve ayarlanmış R-kare değerleri nelerdir? Tatminkar olduklarını düşünüyor musunuz? Açıklayın.\n",
    "-Daha sonra, yukarıdaki modele nem ve rüzgar hızı etkileşimini dahil edin ve OLS'yi kullanarak modeli tahmin edin. Şimdi, bu modelin R-kare değeri nedir? Bu model bir öncekine göre gelişti mi?\n",
    "-İlk modele ek açıklayıcı değişken olarak görünürlük ekleyin ve tahmin edin. R-kare arttı mı? Ayarlanmış R-kare değeri ne oldu? -Tabloda ortaya çıkan farklılıkları, ayarlanmış R-kare içindeki iyileşme açısından etkileşim terimi ve görünürlük ile karşılaştırın. Hangisi daha kullanışlı?\n",
    "-AIC ve BIC puanlarına göre yukarıdaki üç modelden en iyisini seçin. Mentor ile gerekçenizi tartışarak seçiminizi doğrulayın."
   ]
  },
  {
   "cell_type": "code",
   "execution_count": 1,
   "metadata": {},
   "outputs": [],
   "source": [
    "import numpy as np\n",
    "import pandas  as pd\n",
    "import statsmodels.api as sm\n",
    "from sklearn.linear_model import LinearRegression"
   ]
  },
  {
   "cell_type": "code",
   "execution_count": 2,
   "metadata": {},
   "outputs": [
    {
     "name": "stdout",
     "output_type": "stream",
     "text": [
      "lrm score : 0.2878183220259112\n"
     ]
    }
   ],
   "source": [
    "sicaklik = pd.read_csv(\"weatherHistory.csv\")\n",
    "sicaklik['Temp_Diff'] = sicaklik['Apparent Temperature (C)'] - sicaklik['Temperature (C)']\n",
    "X = sicaklik[['Humidity', 'Wind Speed (km/h)']]\n",
    "y = sicaklik['Temp_Diff']\n",
    "lrm = LinearRegression()\n",
    "lrm.fit(X, y)\n",
    "print(\"lrm score :\", lrm.score(X,y))"
   ]
  },
  {
   "cell_type": "code",
   "execution_count": 3,
   "metadata": {},
   "outputs": [
    {
     "name": "stdout",
     "output_type": "stream",
     "text": [
      "R-squared     :  0.2878183220259113\n",
      "Adj. R-squared:  0.28780355413212233\n"
     ]
    }
   ],
   "source": [
    "X = sm.add_constant(X)\n",
    "model_1 = sm.OLS(y, X).fit()\n",
    "print(\"R-squared     : \", model_1.rsquared)\n",
    "print(\"Adj. R-squared: \", model_1.rsquared_adj)"
   ]
  },
  {
   "cell_type": "code",
   "execution_count": 4,
   "metadata": {},
   "outputs": [
    {
     "name": "stdout",
     "output_type": "stream",
     "text": [
      "R-squared     :  0.34127430156647176\n",
      "Adj. R-squared:  0.34125381221878226\n"
     ]
    }
   ],
   "source": [
    "sicaklik['Temp_Diff'] = sicaklik['Apparent Temperature (C)'] - sicaklik['Temperature (C)']\n",
    "sicaklik['Humidity_WS'] = sicaklik['Humidity'] * sicaklik['Wind Speed (km/h)']\n",
    "X = sicaklik[['Humidity', 'Wind Speed (km/h)', 'Humidity_WS']]\n",
    "y = sicaklik['Temp_Diff']\n",
    "X = sm.add_constant(X)\n",
    "model_2 = sm.OLS(y, X).fit()\n",
    "print(\"R-squared     : \", model_2.rsquared)\n",
    "print(\"Adj. R-squared: \", model_2.rsquared_adj)"
   ]
  },
  {
   "cell_type": "code",
   "execution_count": 5,
   "metadata": {},
   "outputs": [
    {
     "name": "stdout",
     "output_type": "stream",
     "text": [
      "R-squared     :  0.49038879836619953\n",
      "Adj. R-squared:  0.49037294731793724\n"
     ]
    }
   ],
   "source": [
    "sicaklik['Temp_Diff'] = sicaklik['Apparent Temperature (C)'] - sicaklik['Temperature (C)']\n",
    "X = sicaklik[['Humidity', 'Wind Speed (km/h)', 'Visibility (km)']]\n",
    "y = sicaklik['Temp_Diff']\n",
    "model_3 = sm.OLS(y, X).fit()\n",
    "print(\"R-squared     : \", model_3.rsquared)\n",
    "print(\"Adj. R-squared: \", model_3.rsquared_adj)"
   ]
  },
  {
   "cell_type": "code",
   "execution_count": 6,
   "metadata": {},
   "outputs": [
    {
     "data": {
      "text/html": [
       "<div>\n",
       "<style scoped>\n",
       "    .dataframe tbody tr th:only-of-type {\n",
       "        vertical-align: middle;\n",
       "    }\n",
       "\n",
       "    .dataframe tbody tr th {\n",
       "        vertical-align: top;\n",
       "    }\n",
       "\n",
       "    .dataframe thead th {\n",
       "        text-align: right;\n",
       "    }\n",
       "</style>\n",
       "<table border=\"1\" class=\"dataframe\">\n",
       "  <thead>\n",
       "    <tr style=\"text-align: right;\">\n",
       "      <th></th>\n",
       "      <th>Formatted Date</th>\n",
       "      <th>Summary</th>\n",
       "      <th>Precip Type</th>\n",
       "      <th>Temperature (C)</th>\n",
       "      <th>Apparent Temperature (C)</th>\n",
       "      <th>Humidity</th>\n",
       "      <th>Wind Speed (km/h)</th>\n",
       "      <th>Wind Bearing (degrees)</th>\n",
       "      <th>Visibility (km)</th>\n",
       "      <th>Loud Cover</th>\n",
       "      <th>Pressure (millibars)</th>\n",
       "      <th>Daily Summary</th>\n",
       "      <th>Temp_Diff</th>\n",
       "      <th>Humidity_WS</th>\n",
       "    </tr>\n",
       "  </thead>\n",
       "  <tbody>\n",
       "    <tr>\n",
       "      <th>0</th>\n",
       "      <td>2006-04-01 00:00:00.000 +0200</td>\n",
       "      <td>Partly Cloudy</td>\n",
       "      <td>rain</td>\n",
       "      <td>9.472222</td>\n",
       "      <td>7.388889</td>\n",
       "      <td>0.89</td>\n",
       "      <td>14.1197</td>\n",
       "      <td>251.0</td>\n",
       "      <td>15.8263</td>\n",
       "      <td>0.0</td>\n",
       "      <td>1015.13</td>\n",
       "      <td>Partly cloudy throughout the day.</td>\n",
       "      <td>-2.083333</td>\n",
       "      <td>12.566533</td>\n",
       "    </tr>\n",
       "    <tr>\n",
       "      <th>1</th>\n",
       "      <td>2006-04-01 01:00:00.000 +0200</td>\n",
       "      <td>Partly Cloudy</td>\n",
       "      <td>rain</td>\n",
       "      <td>9.355556</td>\n",
       "      <td>7.227778</td>\n",
       "      <td>0.86</td>\n",
       "      <td>14.2646</td>\n",
       "      <td>259.0</td>\n",
       "      <td>15.8263</td>\n",
       "      <td>0.0</td>\n",
       "      <td>1015.63</td>\n",
       "      <td>Partly cloudy throughout the day.</td>\n",
       "      <td>-2.127778</td>\n",
       "      <td>12.267556</td>\n",
       "    </tr>\n",
       "    <tr>\n",
       "      <th>2</th>\n",
       "      <td>2006-04-01 02:00:00.000 +0200</td>\n",
       "      <td>Mostly Cloudy</td>\n",
       "      <td>rain</td>\n",
       "      <td>9.377778</td>\n",
       "      <td>9.377778</td>\n",
       "      <td>0.89</td>\n",
       "      <td>3.9284</td>\n",
       "      <td>204.0</td>\n",
       "      <td>14.9569</td>\n",
       "      <td>0.0</td>\n",
       "      <td>1015.94</td>\n",
       "      <td>Partly cloudy throughout the day.</td>\n",
       "      <td>0.000000</td>\n",
       "      <td>3.496276</td>\n",
       "    </tr>\n",
       "    <tr>\n",
       "      <th>3</th>\n",
       "      <td>2006-04-01 03:00:00.000 +0200</td>\n",
       "      <td>Partly Cloudy</td>\n",
       "      <td>rain</td>\n",
       "      <td>8.288889</td>\n",
       "      <td>5.944444</td>\n",
       "      <td>0.83</td>\n",
       "      <td>14.1036</td>\n",
       "      <td>269.0</td>\n",
       "      <td>15.8263</td>\n",
       "      <td>0.0</td>\n",
       "      <td>1016.41</td>\n",
       "      <td>Partly cloudy throughout the day.</td>\n",
       "      <td>-2.344444</td>\n",
       "      <td>11.705988</td>\n",
       "    </tr>\n",
       "    <tr>\n",
       "      <th>4</th>\n",
       "      <td>2006-04-01 04:00:00.000 +0200</td>\n",
       "      <td>Mostly Cloudy</td>\n",
       "      <td>rain</td>\n",
       "      <td>8.755556</td>\n",
       "      <td>6.977778</td>\n",
       "      <td>0.83</td>\n",
       "      <td>11.0446</td>\n",
       "      <td>259.0</td>\n",
       "      <td>15.8263</td>\n",
       "      <td>0.0</td>\n",
       "      <td>1016.51</td>\n",
       "      <td>Partly cloudy throughout the day.</td>\n",
       "      <td>-1.777778</td>\n",
       "      <td>9.167018</td>\n",
       "    </tr>\n",
       "  </tbody>\n",
       "</table>\n",
       "</div>"
      ],
      "text/plain": [
       "                  Formatted Date        Summary Precip Type  Temperature (C)  \\\n",
       "0  2006-04-01 00:00:00.000 +0200  Partly Cloudy        rain         9.472222   \n",
       "1  2006-04-01 01:00:00.000 +0200  Partly Cloudy        rain         9.355556   \n",
       "2  2006-04-01 02:00:00.000 +0200  Mostly Cloudy        rain         9.377778   \n",
       "3  2006-04-01 03:00:00.000 +0200  Partly Cloudy        rain         8.288889   \n",
       "4  2006-04-01 04:00:00.000 +0200  Mostly Cloudy        rain         8.755556   \n",
       "\n",
       "   Apparent Temperature (C)  Humidity  Wind Speed (km/h)  \\\n",
       "0                  7.388889      0.89            14.1197   \n",
       "1                  7.227778      0.86            14.2646   \n",
       "2                  9.377778      0.89             3.9284   \n",
       "3                  5.944444      0.83            14.1036   \n",
       "4                  6.977778      0.83            11.0446   \n",
       "\n",
       "   Wind Bearing (degrees)  Visibility (km)  Loud Cover  Pressure (millibars)  \\\n",
       "0                   251.0          15.8263         0.0               1015.13   \n",
       "1                   259.0          15.8263         0.0               1015.63   \n",
       "2                   204.0          14.9569         0.0               1015.94   \n",
       "3                   269.0          15.8263         0.0               1016.41   \n",
       "4                   259.0          15.8263         0.0               1016.51   \n",
       "\n",
       "                       Daily Summary  Temp_Diff  Humidity_WS  \n",
       "0  Partly cloudy throughout the day.  -2.083333    12.566533  \n",
       "1  Partly cloudy throughout the day.  -2.127778    12.267556  \n",
       "2  Partly cloudy throughout the day.   0.000000     3.496276  \n",
       "3  Partly cloudy throughout the day.  -2.344444    11.705988  \n",
       "4  Partly cloudy throughout the day.  -1.777778     9.167018  "
      ]
     },
     "execution_count": 6,
     "metadata": {},
     "output_type": "execute_result"
    }
   ],
   "source": [
    "sicaklik.head()"
   ]
  },
  {
   "cell_type": "code",
   "execution_count": 7,
   "metadata": {},
   "outputs": [
    {
     "data": {
      "text/plain": [
       "0       -2.083333\n",
       "1       -2.127778\n",
       "2        0.000000\n",
       "3       -2.344444\n",
       "4       -1.777778\n",
       "5       -2.111111\n",
       "6       -2.211111\n",
       "7       -2.244444\n",
       "8        0.000000\n",
       "9        0.000000\n",
       "10       0.000000\n",
       "11       0.000000\n",
       "12       0.000000\n",
       "13       0.000000\n",
       "14       0.000000\n",
       "15       0.000000\n",
       "16       0.000000\n",
       "17       0.000000\n",
       "18       0.000000\n",
       "19       0.000000\n",
       "20       0.000000\n",
       "21       0.000000\n",
       "22       0.000000\n",
       "23       0.000000\n",
       "24       0.000000\n",
       "25      -2.344444\n",
       "26       0.000000\n",
       "27      -2.111111\n",
       "28      -1.294444\n",
       "29      -2.516667\n",
       "           ...   \n",
       "96423   -0.750000\n",
       "96424    0.000000\n",
       "96425    0.000000\n",
       "96426    0.000000\n",
       "96427    0.000000\n",
       "96428    0.000000\n",
       "96429    0.000000\n",
       "96430    0.000000\n",
       "96431    0.000000\n",
       "96432    0.000000\n",
       "96433    0.000000\n",
       "96434    0.000000\n",
       "96435    0.000000\n",
       "96436    0.000000\n",
       "96437    0.000000\n",
       "96438    0.000000\n",
       "96439    0.000000\n",
       "96440   -0.050000\n",
       "96441   -0.650000\n",
       "96442   -1.022222\n",
       "96443   -1.444444\n",
       "96444   -1.466667\n",
       "96445   -1.472222\n",
       "96446   -1.455556\n",
       "96447   -0.988889\n",
       "96448    0.000000\n",
       "96449    0.000000\n",
       "96450    0.000000\n",
       "96451    0.000000\n",
       "96452    0.000000\n",
       "Name: Temp_Diff, Length: 96453, dtype: float64"
      ]
     },
     "execution_count": 7,
     "metadata": {},
     "output_type": "execute_result"
    }
   ],
   "source": [
    "y"
   ]
  },
  {
   "cell_type": "code",
   "execution_count": 8,
   "metadata": {},
   "outputs": [
    {
     "name": "stdout",
     "output_type": "stream",
     "text": [
      "İlk model R-squared                :  0.2878183220259113\n",
      "İlk model Adj. R-squared           :  0.28780355413212233\n",
      "Etkileşimli model R-squared        :  0.34127430156647176\n",
      "Etkileşimli model Adj. R-squared   :  0.34125381221878226\n",
      "Görünürlük'lü model R-squared      :  0.49038879836619953\n",
      "Görünürlük'lü model Adj. R-squared :  0.49037294731793724\n"
     ]
    }
   ],
   "source": [
    "print(\"İlk model R-squared                : \", model_1.rsquared)\n",
    "print(\"İlk model Adj. R-squared           : \", model_1.rsquared_adj)\n",
    "print(\"Etkileşimli model R-squared        : \", model_2.rsquared)\n",
    "print(\"Etkileşimli model Adj. R-squared   : \", model_2.rsquared_adj)\n",
    "print(\"Görünürlük'lü model R-squared      : \", model_3.rsquared)\n",
    "print(\"Görünürlük'lü model Adj. R-squared : \", model_3.rsquared_adj)"
   ]
  },
  {
   "cell_type": "code",
   "execution_count": 9,
   "metadata": {},
   "outputs": [
    {
     "name": "stdout",
     "output_type": "stream",
     "text": [
      "İlk model AIC puanı           :  340916.92494235863\n",
      "İlk model BIC puanı           :  340945.3553757248\n",
      "Etkileşimli model AIC puanı   :  333393.0990014516\n",
      "Etkileşimli model BIC puanı   :  333431.0062459398\n",
      "Görünürlük'lü model AIC puanı :  341920.2502683471\n",
      "Görünürlük'lü model BIC puanı :  341948.68070171325\n"
     ]
    }
   ],
   "source": [
    "print(\"İlk model AIC puanı           : \", model_1.aic)\n",
    "print(\"İlk model BIC puanı           : \", model_1.bic)\n",
    "print(\"Etkileşimli model AIC puanı   : \", model_2.aic)\n",
    "print(\"Etkileşimli model BIC puanı   : \", model_2.bic)\n",
    "print(\"Görünürlük'lü model AIC puanı : \", model_3.aic)\n",
    "print(\"Görünürlük'lü model BIC puanı : \", model_3.bic)"
   ]
  },
  {
   "cell_type": "markdown",
   "metadata": {},
   "source": [
    "Etkileşimli model AIC ve BIC değerleri en düşük olduğundan en iyi modeldir."
   ]
  },
  {
   "cell_type": "markdown",
   "metadata": {},
   "source": [
    "İlk olarak, Ev Fiyatları verilerini Kaggle'dan indirin.\n",
    "-Ev fiyatları modelinizi tekrar çalıştırın ve F-testi, R-kare, ayarlanmış R-kare, AIC ve BIC kullanarak modelinizin uygunluğunu değerlendirin.\n",
    "-Modelinizin tatmin edici olduğunu düşünüyor musunuz? Açıklayın\n",
    "-Modelinizin uygunluğunu iyileştirmek için, bazı değişkenleri ekleyerek veya kaldırarak farklı model özelliklerini deneyin.\n",
    "Denediğiniz her model için, uygun metrikleri alın ve modellerinizi birbiriyle karşılaştırın. Hangi model en iyisidir ve neden?"
   ]
  },
  {
   "cell_type": "code",
   "execution_count": 11,
   "metadata": {},
   "outputs": [],
   "source": [
    "def ols_hesapla(X,y):\n",
    "    X = sm.add_constant(X)\n",
    "    model = sm.OLS(y, X).fit()\n",
    "    print(\"-\"*50)\n",
    "    print(\"Tüm Değişkenler ({} değişken)\".format(X.shape[1]-1))\n",
    "    print(\"-\"*50)\n",
    "    print(\"R-squared         : \" , model.rsquared)\n",
    "    print(\"Adj. R-squared    : \" , model.rsquared)\n",
    "    print(\"F-statistic       : \" , model.fvalue)\n",
    "    print(\"Prob (F-statistic): \" , model.f_pvalue)\n",
    "    print(\"AIC puanı         : \", model.aic)\n",
    "    print(\"BIC puanı         : \", model.bic)\n",
    "    print(\"-\"*50)\n",
    "    return model"
   ]
  },
  {
   "cell_type": "code",
   "execution_count": 12,
   "metadata": {},
   "outputs": [],
   "source": [
    "#Importing the data\n",
    "houses_df = pd.read_csv('train.csv')\n",
    "numerical_features = houses_df.dtypes[houses_df.dtypes != \"object\"].index\n",
    "categoricel_features = houses_df.dtypes[houses_df.dtypes == \"object\"].index\n",
    "#missing data\n",
    "total = houses_df.isnull().sum().sort_values(ascending=False)\n",
    "percent = (houses_df.isnull().sum()/houses_df.isnull().count()).sort_values(ascending=False)\n",
    "missing_data = pd.concat([total, percent], axis=1, keys=['Total', 'Percent'])\n",
    "#dealing with missing data\n",
    "houses_df = houses_df.drop((missing_data[missing_data['Total'] > 1]).index,1)\n",
    "houses_df = houses_df.drop(houses_df.loc[houses_df['Electrical'].isnull()].index)\n",
    "corr_list = list(np.abs(houses_df.corr().iloc[-1, 0:-1]).sort_values(ascending=False)[0:33].index)\n",
    "y = houses_df.SalePrice"
   ]
  },
  {
   "cell_type": "code",
   "execution_count": 13,
   "metadata": {},
   "outputs": [
    {
     "name": "stdout",
     "output_type": "stream",
     "text": [
      "--------------------------------------------------\n",
      "Tüm Değişkenler (33 değişken)\n",
      "--------------------------------------------------\n",
      "R-squared         :  0.809005851275907\n",
      "Adj. R-squared    :  0.809005851275907\n",
      "F-statistic       :  188.75616603083347\n",
      "Prob (F-statistic):  0.0\n",
      "AIC puanı         :  34714.21909338805\n",
      "BIC puanı         :  34888.6408094893\n",
      "--------------------------------------------------\n"
     ]
    }
   ],
   "source": [
    "X = houses_df[corr_list]\n",
    "ilk_model = ols_hesapla(X,y)"
   ]
  },
  {
   "cell_type": "code",
   "execution_count": 14,
   "metadata": {},
   "outputs": [
    {
     "name": "stdout",
     "output_type": "stream",
     "text": [
      "--------------------------------------------------\n",
      "Tüm Değişkenler (18 değişken)\n",
      "--------------------------------------------------\n",
      "R-squared         :  0.8070345409752953\n",
      "Adj. R-squared    :  0.8070345409752953\n",
      "F-statistic       :  334.5819692515948\n",
      "Prob (F-statistic):  0.0\n",
      "AIC puanı         :  34701.200705736155\n",
      "BIC puanı         :  34801.62533015809\n",
      "--------------------------------------------------\n"
     ]
    }
   ],
   "source": [
    "p_degerleri = ilk_model.pvalues\n",
    "anlamlı_degiskenler = list(p_degerleri[p_degerleri<0.05].index)\n",
    "X = houses_df[anlamlı_degiskenler]\n",
    "anlamlı_degerler_model = ols_hesapla(X,y)"
   ]
  },
  {
   "cell_type": "code",
   "execution_count": 15,
   "metadata": {},
   "outputs": [
    {
     "name": "stdout",
     "output_type": "stream",
     "text": [
      "--------------------------------------------------\n",
      "Tüm Değişkenler (10 değişken)\n",
      "--------------------------------------------------\n",
      "R-squared         :  0.7867857646761339\n",
      "Adj. R-squared    :  0.7867857646761339\n",
      "F-statistic       :  534.3291387277831\n",
      "Prob (F-statistic):  0.0\n",
      "AIC puanı         :  34830.78885290501\n",
      "BIC puanı         :  34888.92942493876\n",
      "--------------------------------------------------\n"
     ]
    }
   ],
   "source": [
    "X = houses_df[anlamlı_degiskenler[0:10]]\n",
    "anlamlı_degerler_model = ols_hesapla(X,y)"
   ]
  },
  {
   "cell_type": "code",
   "execution_count": 16,
   "metadata": {},
   "outputs": [
    {
     "name": "stdout",
     "output_type": "stream",
     "text": [
      "--------------------------------------------------\n",
      "Tüm Değişkenler (5 değişken)\n",
      "--------------------------------------------------\n",
      "R-squared         :  0.756404370316144\n",
      "Adj. R-squared    :  0.756404370316144\n",
      "F-statistic       :  902.3606470245277\n",
      "Prob (F-statistic):  0.0\n",
      "AIC puanı         :  35015.14535824629\n",
      "BIC puanı         :  35046.85839753743\n",
      "--------------------------------------------------\n"
     ]
    }
   ],
   "source": [
    "X = houses_df[anlamlı_degiskenler[0:5]]\n",
    "anlamlı_degerler_model = ols_hesapla(X,y)"
   ]
  },
  {
   "cell_type": "code",
   "execution_count": 17,
   "metadata": {},
   "outputs": [
    {
     "name": "stdout",
     "output_type": "stream",
     "text": [
      "--------------------------------------------------\n",
      "Tüm Değişkenler (3 değişken)\n",
      "--------------------------------------------------\n",
      "R-squared         :  0.7390978930729668\n",
      "Adj. R-squared    :  0.7390978930729668\n",
      "F-statistic       :  1373.9347771562482\n",
      "Prob (F-statistic):  0.0\n",
      "AIC puanı         :  35111.28480455394\n",
      "BIC puanı         :  35132.42683074803\n",
      "--------------------------------------------------\n"
     ]
    }
   ],
   "source": [
    "X = houses_df[anlamlı_degiskenler[0:3]]\n",
    "anlamlı_degerler_model = ols_hesapla(X,y)"
   ]
  },
  {
   "cell_type": "code",
   "execution_count": null,
   "metadata": {},
   "outputs": [],
   "source": []
  }
 ],
 "metadata": {
  "kernelspec": {
   "display_name": "Python 3",
   "language": "python",
   "name": "python3"
  },
  "language_info": {
   "codemirror_mode": {
    "name": "ipython",
    "version": 3
   },
   "file_extension": ".py",
   "mimetype": "text/x-python",
   "name": "python",
   "nbconvert_exporter": "python",
   "pygments_lexer": "ipython3",
   "version": "3.7.0"
  }
 },
 "nbformat": 4,
 "nbformat_minor": 2
}
